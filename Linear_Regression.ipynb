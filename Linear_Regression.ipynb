{
  "nbformat": 4,
  "nbformat_minor": 0,
  "metadata": {
    "colab": {
      "provenance": [],
      "mount_file_id": "1m8Lq7RM7Ml7d5QcTJVgPMsz6P1iuGuSK",
      "authorship_tag": "ABX9TyOanldUC7T8q35b25lA5+EH",
      "include_colab_link": true
    },
    "kernelspec": {
      "name": "python3",
      "display_name": "Python 3"
    },
    "language_info": {
      "name": "python"
    }
  },
  "cells": [
    {
      "cell_type": "markdown",
      "metadata": {
        "id": "view-in-github",
        "colab_type": "text"
      },
      "source": [
        "<a href=\"https://colab.research.google.com/github/boleamol/Machine-Learning/blob/main/Linear_Regression.ipynb\" target=\"_parent\"><img src=\"https://colab.research.google.com/assets/colab-badge.svg\" alt=\"Open In Colab\"/></a>"
      ]
    },
    {
      "cell_type": "code",
      "execution_count": 3,
      "metadata": {
        "colab": {
          "base_uri": "https://localhost:8080/"
        },
        "id": "1siMpTbw2RRW",
        "outputId": "bba31ec4-a477-48e1-9bf2-f2e53746653b"
      },
      "outputs": [
        {
          "output_type": "stream",
          "name": "stdout",
          "text": [
            "/content\n"
          ]
        }
      ],
      "source": [
        "!pwd"
      ]
    },
    {
      "cell_type": "code",
      "source": [
        "%cd drive/MyDrive/Colab\\ Notebooks/machine_learning"
      ],
      "metadata": {
        "colab": {
          "base_uri": "https://localhost:8080/"
        },
        "id": "thd3EPPs2-x7",
        "outputId": "00452bb7-e3c6-4a5c-b7d6-15d0891abc12"
      },
      "execution_count": 4,
      "outputs": [
        {
          "output_type": "stream",
          "name": "stdout",
          "text": [
            "/content/drive/MyDrive/Colab Notebooks/machine_learning\n"
          ]
        }
      ]
    },
    {
      "cell_type": "code",
      "source": [
        "!ls"
      ],
      "metadata": {
        "colab": {
          "base_uri": "https://localhost:8080/"
        },
        "id": "q5dI7usI2-8q",
        "outputId": "8cdbc3f0-939a-4ae8-9921-dbc3985206f3"
      },
      "execution_count": 5,
      "outputs": [
        {
          "output_type": "stream",
          "name": "stdout",
          "text": [
            "'Lasso and Ridge Regression.ipynb'\n"
          ]
        }
      ]
    },
    {
      "cell_type": "code",
      "source": [
        "# Importing the libraries\n",
        "import numpy as np\n",
        "import matplotlib.pyplot as plt\n",
        "import pandas as pd"
      ],
      "metadata": {
        "id": "yXE5LNPL2kFp"
      },
      "execution_count": 6,
      "outputs": []
    },
    {
      "cell_type": "code",
      "source": [
        "# Importing the dataset\n",
        "dataset = pd.read_csv('50_Startups.csv')\n",
        "X = dataset.iloc[:, :-1]\n",
        "y = dataset.iloc[:, 4]"
      ],
      "metadata": {
        "id": "gyQTq-mq2oDi"
      },
      "execution_count": 7,
      "outputs": []
    },
    {
      "cell_type": "code",
      "source": [
        "X.head"
      ],
      "metadata": {
        "colab": {
          "base_uri": "https://localhost:8080/"
        },
        "id": "bp20WgAc4MR3",
        "outputId": "ef029de7-6a59-4438-d575-9e738c549a99"
      },
      "execution_count": 16,
      "outputs": [
        {
          "output_type": "execute_result",
          "data": {
            "text/plain": [
              "<bound method NDFrame.head of     R&D Spend  Administration  Marketing Spend  Florida  New York\n",
              "0   165349.20       136897.80        471784.10        0         1\n",
              "1   162597.70       151377.59        443898.53        0         0\n",
              "2   153441.51       101145.55        407934.54        1         0\n",
              "3   144372.41       118671.85        383199.62        0         1\n",
              "4   142107.34        91391.77        366168.42        1         0\n",
              "5   131876.90        99814.71        362861.36        0         1\n",
              "6   134615.46       147198.87        127716.82        0         0\n",
              "7   130298.13       145530.06        323876.68        1         0\n",
              "8   120542.52       148718.95        311613.29        0         1\n",
              "9   123334.88       108679.17        304981.62        0         0\n",
              "10  101913.08       110594.11        229160.95        1         0\n",
              "11  100671.96        91790.61        249744.55        0         0\n",
              "12   93863.75       127320.38        249839.44        1         0\n",
              "13   91992.39       135495.07        252664.93        0         0\n",
              "14  119943.24       156547.42        256512.92        1         0\n",
              "15  114523.61       122616.84        261776.23        0         1\n",
              "16   78013.11       121597.55        264346.06        0         0\n",
              "17   94657.16       145077.58        282574.31        0         1\n",
              "18   91749.16       114175.79        294919.57        1         0\n",
              "19   86419.70       153514.11             0.00        0         1\n",
              "20   76253.86       113867.30        298664.47        0         0\n",
              "21   78389.47       153773.43        299737.29        0         1\n",
              "22   73994.56       122782.75        303319.26        1         0\n",
              "23   67532.53       105751.03        304768.73        1         0\n",
              "24   77044.01        99281.34        140574.81        0         1\n",
              "25   64664.71       139553.16        137962.62        0         0\n",
              "26   75328.87       144135.98        134050.07        1         0\n",
              "27   72107.60       127864.55        353183.81        0         1\n",
              "28   66051.52       182645.56        118148.20        1         0\n",
              "29   65605.48       153032.06        107138.38        0         1\n",
              "30   61994.48       115641.28         91131.24        1         0\n",
              "31   61136.38       152701.92         88218.23        0         1\n",
              "32   63408.86       129219.61         46085.25        0         0\n",
              "33   55493.95       103057.49        214634.81        1         0\n",
              "34   46426.07       157693.92        210797.67        0         0\n",
              "35   46014.02        85047.44        205517.64        0         1\n",
              "36   28663.76       127056.21        201126.82        1         0\n",
              "37   44069.95        51283.14        197029.42        0         0\n",
              "38   20229.59        65947.93        185265.10        0         1\n",
              "39   38558.51        82982.09        174999.30        0         0\n",
              "40   28754.33       118546.05        172795.67        0         0\n",
              "41   27892.92        84710.77        164470.71        1         0\n",
              "42   23640.93        96189.63        148001.11        0         0\n",
              "43   15505.73       127382.30         35534.17        0         1\n",
              "44   22177.74       154806.14         28334.72        0         0\n",
              "45    1000.23       124153.04          1903.93        0         1\n",
              "46    1315.46       115816.21        297114.46        1         0\n",
              "47       0.00       135426.92             0.00        0         0\n",
              "48     542.05        51743.15             0.00        0         1\n",
              "49       0.00       116983.80         45173.06        0         0>"
            ]
          },
          "metadata": {},
          "execution_count": 16
        }
      ]
    },
    {
      "cell_type": "code",
      "source": [
        "#Convert the column into categorical columns\n",
        "\n",
        "states=pd.get_dummies(X['State'],drop_first=True)"
      ],
      "metadata": {
        "id": "KskRpnES2rLP"
      },
      "execution_count": 8,
      "outputs": []
    },
    {
      "cell_type": "code",
      "source": [
        "# Drop the state coulmn\n",
        "X=X.drop('State',axis=1)"
      ],
      "metadata": {
        "id": "YpL1wYsk2vyW"
      },
      "execution_count": 9,
      "outputs": []
    },
    {
      "cell_type": "code",
      "source": [
        "# concat the dummy variables\n",
        "X=pd.concat([X,states],axis=1)"
      ],
      "metadata": {
        "id": "HDt8vYuG2v1F"
      },
      "execution_count": 10,
      "outputs": []
    },
    {
      "cell_type": "code",
      "source": [
        "# Splitting the dataset into the Training set and Test set\n",
        "from sklearn.model_selection import train_test_split\n",
        "X_train, X_test, y_train, y_test = train_test_split(X, y, test_size = 0.2, random_state = 0)"
      ],
      "metadata": {
        "id": "0eSzhVTp2v79"
      },
      "execution_count": 11,
      "outputs": []
    },
    {
      "cell_type": "code",
      "source": [
        "# Fitting Multiple Linear Regression to the Training set\n",
        "from sklearn.linear_model import LinearRegression\n",
        "regressor = LinearRegression()\n",
        "regressor.fit(X_train, y_train)"
      ],
      "metadata": {
        "colab": {
          "base_uri": "https://localhost:8080/"
        },
        "id": "ouPV00j62v-l",
        "outputId": "008f6ee4-5ac6-46a6-e795-97347cb3ff18"
      },
      "execution_count": 12,
      "outputs": [
        {
          "output_type": "execute_result",
          "data": {
            "text/plain": [
              "LinearRegression()"
            ]
          },
          "metadata": {},
          "execution_count": 12
        }
      ]
    },
    {
      "cell_type": "code",
      "source": [
        "#Predicting the Test set results\n",
        "y_pred = regressor.predict(X_test)"
      ],
      "metadata": {
        "id": "fBU_6kDW2wAr"
      },
      "execution_count": 13,
      "outputs": []
    },
    {
      "cell_type": "code",
      "source": [
        "from sklearn.metrics import r2_score\n",
        "score=r2_score(y_test,y_pred)"
      ],
      "metadata": {
        "id": "514jRgNc2wHp"
      },
      "execution_count": 14,
      "outputs": []
    },
    {
      "cell_type": "code",
      "source": [
        "score"
      ],
      "metadata": {
        "colab": {
          "base_uri": "https://localhost:8080/"
        },
        "id": "4PK9X56l2wKA",
        "outputId": "220a30d6-5c51-4f20-f00d-f4d6c369454e"
      },
      "execution_count": 15,
      "outputs": [
        {
          "output_type": "execute_result",
          "data": {
            "text/plain": [
              "0.9347068473282423"
            ]
          },
          "metadata": {},
          "execution_count": 15
        }
      ]
    },
    {
      "cell_type": "code",
      "source": [
        "# 93.47 % Accuracy"
      ],
      "metadata": {
        "id": "IydCmrFx2wTp"
      },
      "execution_count": null,
      "outputs": []
    },
    {
      "cell_type": "code",
      "source": [],
      "metadata": {
        "id": "ZEb0uMV82wWG"
      },
      "execution_count": null,
      "outputs": []
    }
  ]
}